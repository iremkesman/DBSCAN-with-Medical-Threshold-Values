{
  "nbformat": 4,
  "nbformat_minor": 0,
  "metadata": {
    "colab": {
      "provenance": []
    },
    "kernelspec": {
      "name": "python3",
      "display_name": "Python 3"
    },
    "language_info": {
      "name": "python"
    }
  },
  "cells": [
    {
      "cell_type": "code",
      "execution_count": null,
      "metadata": {
        "id": "GbROJvnmJsR0"
      },
      "outputs": [],
      "source": [
        "import cv2\n",
        "import numpy as np\n",
        "from google.colab.patches import cv2_imshow\n",
        "\n",
        "# Görüntüyü yükleme\n",
        "image = cv2.imread('13.png')\n",
        "\n",
        "# Gürültü azaltma işlemi (Gaussian bulanıklaştırma)\n",
        "denoised_image = cv2.GaussianBlur(image, (5, 5), 0)\n",
        "\n",
        "# Gri tonlamaya dönüştürme\n",
        "gray_image = cv2.cvtColor(denoised_image, cv2.COLOR_BGR2GRAY)\n",
        "\n",
        "# Adaptif histogram dengeleme uygulama\n",
        "clahe = cv2.createCLAHE(clipLimit=1.5, tileGridSize=(8, 8))\n",
        "enhanced_image = clahe.apply(gray_image)\n",
        "\n",
        "# İyileştirilmiş görüntüyü gösterme\n",
        "cv2_imshow(enhanced_image)\n"
      ]
    }
  ]
}